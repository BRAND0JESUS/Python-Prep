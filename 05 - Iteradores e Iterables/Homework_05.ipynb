{
 "cells": [
  {
   "cell_type": "code",
   "execution_count": 47,
   "metadata": {},
   "outputs": [
    {
     "name": "stdout",
     "output_type": "stream",
     "text": [
      "7 n\n",
      "21 n\n",
      "39 n\n",
      "60 n\n",
      "67 n\n"
     ]
    }
   ],
   "source": [
    "# 10. A partir de la variable cadena ya dada, mostrar en qué posiciones aparece la letra \"n\"\n",
    "\n",
    "cadena = 'Hola Mundo. Esto es una practica del lenguaje de programación Python'\n",
    "\n",
    "\n",
    "for i, letter in enumerate(cadena):\n",
    "    if letter == 'n':\n",
    "        print(i, letter)"
   ]
  },
  {
   "cell_type": "code",
   "execution_count": 48,
   "metadata": {},
   "outputs": [
    {
     "name": "stdout",
     "output_type": "stream",
     "text": [
      "Ciudad\n",
      "País\n",
      "Continente\n"
     ]
    }
   ],
   "source": [
    "# 11. Crear un diccionario e imprimir sus claves utilizando un iterador\n",
    "dicc = {'Ciudad': ['Buenos Aires','Caracas','Bogotá','Lisboa','Roma'],\n",
    "        'País': ['Argentina','Venezuela','Colombia','Portugal','Italia'],\n",
    "        'Continente' : ['América','América','América','Europa','Europa']}\n",
    "\n",
    "for elem in dicc.keys():\n",
    "    print(elem)"
   ]
  },
  {
   "cell_type": "code",
   "execution_count": 49,
   "metadata": {},
   "outputs": [
    {
     "name": "stdout",
     "output_type": "stream",
     "text": [
      "H\n",
      "o\n",
      "l\n",
      "a\n",
      " \n",
      "M\n",
      "u\n",
      "n\n",
      "d\n",
      "o\n",
      ".\n",
      " \n",
      "E\n",
      "s\n",
      "t\n",
      "o\n",
      " \n",
      "e\n",
      "s\n",
      " \n",
      "u\n",
      "n\n",
      "a\n",
      " \n",
      "p\n",
      "r\n",
      "a\n",
      "c\n",
      "t\n",
      "i\n",
      "c\n",
      "a\n",
      " \n",
      "d\n",
      "e\n",
      "l\n",
      " \n",
      "l\n",
      "e\n",
      "n\n",
      "g\n",
      "u\n",
      "a\n",
      "j\n",
      "e\n",
      " \n",
      "d\n",
      "e\n",
      " \n",
      "p\n",
      "r\n",
      "o\n",
      "g\n",
      "r\n",
      "a\n",
      "m\n",
      "a\n",
      "c\n",
      "i\n",
      "ó\n",
      "n\n",
      " \n",
      "P\n",
      "y\n",
      "t\n",
      "h\n",
      "o\n",
      "n\n"
     ]
    }
   ],
   "source": [
    "# 12. Convertir en una lista la variable \"cadena\" del punto 10 y luego recorrerla con un iterador\n",
    "lista = list(cadena)\n",
    "recorre = iter(lista)\n",
    "\n",
    "for i in range(0, len(lista)):\n",
    "    print(next(recorre))"
   ]
  },
  {
   "cell_type": "code",
   "execution_count": 50,
   "metadata": {},
   "outputs": [
    {
     "data": {
      "text/plain": [
       "[21, 35, 42, 56, 63, 84, 91]"
      ]
     },
     "execution_count": 50,
     "metadata": {},
     "output_type": "execute_result"
    }
   ],
   "source": [
    "# 14. A partir de la siguiente lista de números, crear una nueva sólo si el número es divisible por 7\n",
    "\n",
    "lis = [18,21,29,32,35,42,56,60,63,71,84,90,91,100]\n",
    "\n",
    "[val for val in lis if val % 7 == 0]"
   ]
  },
  {
   "cell_type": "code",
   "execution_count": 51,
   "metadata": {},
   "outputs": [
    {
     "name": "stdout",
     "output_type": "stream",
     "text": [
      "15\n"
     ]
    }
   ],
   "source": [
    "# 15. A partir de la lista de a continuación, contar la cantidad total de elementos que contiene, teniendo en cuenta que un elemento de la lista\n",
    "# podría ser otra lista:\n",
    "\n",
    "lis = [[1,2,3,4],'rojo','verde',[True,False,False],['uno','dos','tres']]\n",
    "count = len(lis)\n",
    "for elem in lis:\n",
    "    if type(elem) == list:\n",
    "        count += len(elem)\n",
    "\n",
    "print(count)"
   ]
  },
  {
   "cell_type": "code",
   "execution_count": 52,
   "metadata": {},
   "outputs": [
    {
     "data": {
      "text/plain": [
       "[[1, 2, 3, 4], 'rojo', 'verde', [True, False, False], ['uno', 'dos', 'tres']]"
      ]
     },
     "execution_count": 52,
     "metadata": {},
     "output_type": "execute_result"
    }
   ],
   "source": [
    "lis"
   ]
  },
  {
   "cell_type": "code",
   "execution_count": 53,
   "metadata": {},
   "outputs": [
    {
     "name": "stdout",
     "output_type": "stream",
     "text": [
      "[[1, 2, 3, 4], ['rojo'], ['verde'], [True, False, False], ['uno', 'dos', 'tres']]\n"
     ]
    }
   ],
   "source": [
    "# 16. Tomar la lista del punto anterior y convertir cada elemento en una lista si no lo es\n",
    "for i, elem in enumerate(lis):\n",
    "    if not type(elem) == list:\n",
    "        lis[i] = [elem]\n",
    "\n",
    "print(lis)\n"
   ]
  }
 ],
 "metadata": {
  "kernelspec": {
   "display_name": "env_DS",
   "language": "python",
   "name": "python3"
  },
  "language_info": {
   "codemirror_mode": {
    "name": "ipython",
    "version": 3
   },
   "file_extension": ".py",
   "mimetype": "text/x-python",
   "name": "python",
   "nbconvert_exporter": "python",
   "pygments_lexer": "ipython3",
   "version": "3.10.9"
  },
  "orig_nbformat": 4
 },
 "nbformat": 4,
 "nbformat_minor": 2
}
