{
 "cells": [
  {
   "attachments": {},
   "cell_type": "markdown",
   "metadata": {},
   "source": [
    "## Entrada / Salida\n",
    "\n",
    "1) Crear un script con el nombre \"clase09_ej1.py\" que reciba 3 parametros a elección, verificando que sean exactamente esa cantidad, y muestre como salida los parámetros recibidos"
   ]
  },
  {
   "attachments": {},
   "cell_type": "markdown",
   "metadata": {},
   "source": [
    "2) Crear un script con el nombre \"clase09_ej2.py2\" que reciba como un valor de temperatura en grados centígrados, un valor de humedad y por último si llovio (Con True o False). Y que cada vez que sea invocado, cargue en el archivo provisto \"clase09_ej2.csv\" una marca de tiempo y esa información.\n",
    "\n",
    "Para trabajar con tipos de datos relacionados con la medición del tiempo, como ser fechas, horarios o marcas de tiempo se puede utilizar la clase *datetime*\n",
    "\n",
    "``` python\n",
    "import datetime\n",
    "\n",
    "x = datetime.datetime.now()\n",
    "print(\"Ahora =\",x)\n",
    "x = datetime.datetime(2020, 5, 10)\n",
    "print(\"Fecha fija =\",x)\n",
    "\n",
    "fecha_hora = '2022-05-10 12:30:00'\n",
    "objeto_datetime = datetime.datetime.strptime(fecha_hora, '%Y-%m-%d %H:%M:%S')\n",
    "print(\"objeto datetime =\", objeto_datetime)\n",
    "marca_de_tiempo = datetime.datetime.timestamp(objeto_datetime)\n",
    "print(\"timestamp =\", marca_de_tiempo)\n",
    "fecha_hora2 = datetime.datetime.fromtimestamp(marca_de_tiempo)\n",
    "print(\"fecha hora =\", fecha_hora2)\n",
    "```"
   ]
  },
  {
   "attachments": {},
   "cell_type": "markdown",
   "metadata": {},
   "source": [
    "3. Crear un archivo a partir de los datos presentes en el diccionario provisto. El cual debe contener en la primera fila el nombre de las claves y luego cada línea los elementos i-ésimos de las listas de valores contiguos y separados por coma ','. Este archivo debe llamarse clase09_ej3.csv\n",
    "``` python\n",
    "montañas = {'nombre':[  'Everest','K2','Kanchenjunga','Lhotse','Makalu',\n",
    "                        'Cho Oyu','Dhaulagiri','Manaslu','Nanga Parbat','Annapurna I'],\n",
    "            'orden':[1,2,3,4,5,6,7,8,9,10],\n",
    "            'cordillera':['Himalaya','Karakórum','Himalaya','Himalaya','Himalaya'\n",
    "                        ,'Himalaya','Himalaya','Himalaya','Karakórum','Himalaya'],\n",
    "            'pais': ['Nepal','Pakistán','Nepal','Nepal','Nepal','Nepal','Nepal','Nepal',\n",
    "                    'Pakistán','Nepal'],\n",
    "            'altura':[8849,8611,8586,8516,8485,8188,8167,8163,8125,8091]}\n",
    "```"
   ]
  },
  {
   "cell_type": "code",
   "execution_count": 14,
   "metadata": {},
   "outputs": [],
   "source": [
    "montañas = {'nombre':[  'Everest','K2','Kanchenjunga','Lhotse','Makalu',\n",
    "                        'Cho Oyu','Dhaulagiri','Manaslu','Nanga Parbat','Annapurna I'],\n",
    "            'orden':[1,2,3,4,5,6,7,8,9,10],\n",
    "            'cordillera':['Himalaya','Karakórum','Himalaya','Himalaya','Himalaya'\n",
    "                        ,'Himalaya','Himalaya','Himalaya','Karakórum','Himalaya'],\n",
    "            'pais': ['Nepal','Pakistán','Nepal','Nepal','Nepal','Nepal','Nepal','Nepal',\n",
    "                    'Pakistán','Nepal'],\n",
    "            'altura':[8849,8611,8586,8516,8485,8188,8167,8163,8125,8091]}"
   ]
  },
  {
   "cell_type": "code",
   "execution_count": 43,
   "metadata": {},
   "outputs": [],
   "source": [
    "import os\n",
    "import sys\n",
    "\n",
    "# create csv file\n",
    "file = open('clase09_ej3_Brando.csv', 'w')"
   ]
  },
  {
   "cell_type": "code",
   "execution_count": 44,
   "metadata": {},
   "outputs": [],
   "source": [
    "for clave in montañas.keys():\n",
    "    if (clave == 'altura'):\n",
    "        file.write(clave+'\\n')\n",
    "    else:\n",
    "        file.write(clave+',')"
   ]
  },
  {
   "cell_type": "code",
   "execution_count": 45,
   "metadata": {},
   "outputs": [],
   "source": [
    "ind = 0\n",
    "while (ind < 10):\n",
    "    file.write(montañas['nombre'][ind]+',')\n",
    "    file.write(str(montañas['orden'][ind])+',')\n",
    "    file.write(montañas['cordillera'][ind]+',')\n",
    "    file.write(montañas['pais'][ind]+',')\n",
    "    file.write(str(montañas['altura'][ind])+'\\n')\n",
    "    ind += 1"
   ]
  },
  {
   "attachments": {},
   "cell_type": "markdown",
   "metadata": {},
   "source": [
    "4) Mostrar el tamaño en MB del archivo generado en el punto 3"
   ]
  },
  {
   "cell_type": "code",
   "execution_count": 52,
   "metadata": {},
   "outputs": [
    {
     "name": "stdout",
     "output_type": "stream",
     "text": [
      "The file Size is 0.36 MB\n"
     ]
    }
   ],
   "source": [
    "print('The file Size is', round(os.path.getsize('clase09_ej3_Brando.csv')/1024,2), 'MB')"
   ]
  },
  {
   "attachments": {},
   "cell_type": "markdown",
   "metadata": {},
   "source": [
    "5) Crear una carpeta llamada clase09_montañas_altas"
   ]
  },
  {
   "cell_type": "code",
   "execution_count": 54,
   "metadata": {},
   "outputs": [],
   "source": [
    "os.mkdir('clase09_montañas_altas_Brando')"
   ]
  },
  {
   "attachments": {},
   "cell_type": "markdown",
   "metadata": {},
   "source": [
    "6) Copiar el archivo clase09_ej3.scv en la carpeta clase09_montañas_altas usando la sentencia **os.system**"
   ]
  },
  {
   "cell_type": "code",
   "execution_count": 56,
   "metadata": {},
   "outputs": [
    {
     "data": {
      "text/plain": [
       "0"
      ]
     },
     "execution_count": 56,
     "metadata": {},
     "output_type": "execute_result"
    }
   ],
   "source": [
    "os.system('copy clase09_ej3_Brando.csv clase09_montañas_altas_Brando')"
   ]
  },
  {
   "cell_type": "markdown",
   "metadata": {},
   "source": [
    "7) Listar el contenido de la carpeta clase09_montañas_altas"
   ]
  },
  {
   "cell_type": "code",
   "execution_count": 62,
   "metadata": {},
   "outputs": [
    {
     "data": {
      "text/plain": [
       "['clase09_ej3_Brando.csv']"
      ]
     },
     "execution_count": 62,
     "metadata": {},
     "output_type": "execute_result"
    }
   ],
   "source": [
    "os.listdir('./clase09_montañas_altas_Brando')"
   ]
  }
 ],
 "metadata": {
  "kernelspec": {
   "display_name": "env_DS",
   "language": "python",
   "name": "python3"
  },
  "language_info": {
   "codemirror_mode": {
    "name": "ipython",
    "version": 3
   },
   "file_extension": ".py",
   "mimetype": "text/x-python",
   "name": "python",
   "nbconvert_exporter": "python",
   "pygments_lexer": "ipython3",
   "version": "3.10.9"
  },
  "orig_nbformat": 4
 },
 "nbformat": 4,
 "nbformat_minor": 2
}
