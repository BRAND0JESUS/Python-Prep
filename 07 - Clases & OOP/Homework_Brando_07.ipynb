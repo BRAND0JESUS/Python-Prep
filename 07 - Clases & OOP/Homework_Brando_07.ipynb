{
 "cells": [
  {
   "attachments": {},
   "cell_type": "markdown",
   "metadata": {},
   "source": [
    "`Clases y Programación Orientada a Objetos`"
   ]
  },
  {
   "attachments": {},
   "cell_type": "markdown",
   "metadata": {},
   "source": [
    "1. Crear la clase vehículo que contenga los atributos: <br>\n",
    "Color<br>\n",
    "Si es moto, auto, camioneta ó camión<br>\n",
    "Cilindrada del motor<br>"
   ]
  },
  {
   "cell_type": "code",
   "execution_count": 27,
   "metadata": {},
   "outputs": [],
   "source": [
    "class vehicle:\n",
    "    def __init__(self, color, tipo, cylinder_capacity) -> None:\n",
    "        self.color = color\n",
    "        self.tipo = tipo\n",
    "        self.cylinder_capacity = cylinder_capacity"
   ]
  },
  {
   "attachments": {},
   "cell_type": "markdown",
   "metadata": {},
   "source": [
    "2) A la clase Vehiculo creada en el punto 1, agregar los siguientes métodos:<br>\n",
    "Acelerar<br>\n",
    "Frenar<br>\n",
    "Doblar<br>"
   ]
  },
  {
   "cell_type": "code",
   "execution_count": 28,
   "metadata": {},
   "outputs": [],
   "source": [
    "class vehicle:\n",
    "    def __init__(self, color, tipo, cylinder_capacity) -> None:\n",
    "        self.color = color\n",
    "        self.tipo = tipo\n",
    "        self.cylinder_capacity = cylinder_capacity\n",
    "        self.velocity = 0\n",
    "        self.direction = 0\n",
    "\n",
    "    def Speed_up(self, velocity):\n",
    "        self.velocity += velocity\n",
    "    \n",
    "    def Curb(self, velocity):\n",
    "        self.velocity -= velocity\n",
    "    \n",
    "    def Turn(self, grados):\n",
    "        self.direction += grados"
   ]
  },
  {
   "attachments": {},
   "cell_type": "markdown",
   "metadata": {},
   "source": [
    "3) Instanciar 3 objetos de la clase vehículo y ejecutar sus métodos, probar luego el resultado"
   ]
  },
  {
   "cell_type": "code",
   "execution_count": 29,
   "metadata": {},
   "outputs": [],
   "source": [
    "obj_a = vehicle('red', 'motorcycle', 2)\n",
    "obj_b = vehicle('blue', 'car', 5)\n",
    "obj_c = vehicle('gree', 'truck', 10)"
   ]
  },
  {
   "cell_type": "code",
   "execution_count": 30,
   "metadata": {},
   "outputs": [],
   "source": [
    "obj_a.Speed_up(15)\n",
    "obj_a.Curb(13)\n",
    "obj_b.Turn(10)"
   ]
  },
  {
   "attachments": {},
   "cell_type": "markdown",
   "metadata": {},
   "source": [
    "4) Agregar a la clase Vehículo, un método que muestre su estado, es decir, a que velocidad se encuentra y su dirección. Y otro método que muestre color, tipo y cilindrada"
   ]
  },
  {
   "cell_type": "code",
   "execution_count": 5,
   "metadata": {},
   "outputs": [],
   "source": [
    "class Vehicle:\n",
    "    def __init__(self, color, tipo, cylinder_capacity) -> None:\n",
    "        self.color = color\n",
    "        self.tipo = tipo\n",
    "        self.cylinder_capacity = cylinder_capacity\n",
    "        self.velocity = 0\n",
    "        self.direction = 0\n",
    "\n",
    "    def Speed_up(self, velocity):\n",
    "        self.velocity += velocity\n",
    "    \n",
    "    def Curb(self, velocity):\n",
    "        self.velocity -= velocity\n",
    "    \n",
    "    def Turn(self, grados):\n",
    "        self.direction += grados\n",
    "\n",
    "    def State(self):\n",
    "        print('Velocidad:', self.velocity, '- Dirección:', self.direction)\n",
    "    \n",
    "    def Details(self):\n",
    "        print('Color:', self.color, '- Tipo:', self.tipo, 'Cilindrada', self.cylinder_capacity)"
   ]
  },
  {
   "cell_type": "code",
   "execution_count": 6,
   "metadata": {},
   "outputs": [
    {
     "name": "stdout",
     "output_type": "stream",
     "text": [
      "Color: rojo - Tipo: auto Cilindrada 2\n"
     ]
    }
   ],
   "source": [
    "obj_a = Vehicle('rojo', 'auto', 2)\n",
    "obj_a.Details()"
   ]
  },
  {
   "cell_type": "code",
   "execution_count": 7,
   "metadata": {},
   "outputs": [
    {
     "name": "stdout",
     "output_type": "stream",
     "text": [
      "Velocidad: 2 - Dirección: 10\n"
     ]
    }
   ],
   "source": [
    "obj_a.Speed_up(15)\n",
    "obj_a.Curb(13)\n",
    "obj_a.Turn(10)\n",
    "obj_a.State()"
   ]
  },
  {
   "attachments": {},
   "cell_type": "markdown",
   "metadata": {},
   "source": [
    "5) Crear una clase que permita utilizar las funciones creadas en la práctica del módulo 6<br>\n",
    "Verificar Primo<br>\n",
    "Valor modal<br>\n",
    "Conversión grados<br>\n",
    "Factorial<br>"
   ]
  },
  {
   "cell_type": "code",
   "execution_count": 25,
   "metadata": {},
   "outputs": [],
   "source": [
    "class Tools():\n",
    "    def __init__(self) -> None:\n",
    "        pass\n",
    "\n",
    "    def num_primo (self, numero) -> int:\n",
    "        for i in range(2, numero):\n",
    "            if (numero % i) == 0:\n",
    "                return False\n",
    "                break\n",
    "        return True\n",
    "    \n",
    "    def most_repeated_numbers(self, lista) -> list:\n",
    "        lista_unique = list(set(lista))\n",
    "        lista_count = []\n",
    "        result = []\n",
    "        \n",
    "        for i in range(len(lista_unique)):\n",
    "            lista_count.append([lista_unique[i], lista.count(lista_unique[i])])\n",
    "        \n",
    "        for i in range(len(lista_count)-1):\n",
    "            if lista_count[i][1] > lista_count[0][1]:\n",
    "                result = (lista_count[i][0], lista_count[i][1])\n",
    "        return result\n",
    "    \n",
    "    def trans_temperature (self, value, unit_int, unit_out):\n",
    "        # transformation functions\n",
    "        def C_K(valor):\n",
    "            return (valor + 273.15)\n",
    "        def C_F(valor):\n",
    "            return ((valor * 9/5) + 32)\n",
    "        def F_C(valor):\n",
    "            return((valor - 32) * 5/9)\n",
    "        def K_C(valor):\n",
    "            return (valor - 273.15)\n",
    "\n",
    "        # options\n",
    "        if unit_int == 'K':\n",
    "            if unit_out == 'C':\n",
    "                print('{}°K = {:.2f}°C'.format(value, K_C(value)))\n",
    "            elif unit_out == 'F':\n",
    "                print('{}°K = {:.2f}F'.format(value, C_F(K_C(value))))\n",
    "            else:\n",
    "                print('{}°K = {}°K'.format(value, value))\n",
    "\n",
    "        elif unit_int == 'F':\n",
    "            if unit_out == 'C':\n",
    "                print('{}F = {:.2f}C'.format(value, F_C(value)))\n",
    "            elif unit_out == 'K':\n",
    "                print('{}F = {:.2f}°K'.format(value, C_K(F_C(value))))\n",
    "            else:\n",
    "                print('{}F = {}F'.format(value, value))\n",
    "\n",
    "        elif unit_int == 'C':\n",
    "            if unit_out == 'K':\n",
    "                print('{}°C = {:.2f}°K'.format(value, C_K(value)))\n",
    "            elif unit_out == 'F':\n",
    "                print('{}°C = {:.2f}F'.format(value, C_F(value)))\n",
    "            else:\n",
    "                print('{}°C = {}°C'.format(value, value))\n",
    "        else: \n",
    "            print(\"La opción seleccionada es incorrecta\")\n",
    "\n",
    "    def factorial (self, valor) -> int:\n",
    "        if valor < 0:\n",
    "            return('the value must be positive')\n",
    "\n",
    "        if not type(valor) == int:\n",
    "            return('the value must be int')\n",
    "\n",
    "        if valor > 1 and type(valor) == int:\n",
    "            val_factorial = 1\n",
    "            n = 1\n",
    "            while n <= valor:\n",
    "                val_factorial *= n\n",
    "                n += 1\n",
    "            return (val_factorial)"
   ]
  },
  {
   "attachments": {},
   "cell_type": "markdown",
   "metadata": {},
   "source": [
    "6. Probar las funciones incorporadas en la clase del punto 5"
   ]
  },
  {
   "cell_type": "code",
   "execution_count": 17,
   "metadata": {},
   "outputs": [
    {
     "name": "stdout",
     "output_type": "stream",
     "text": [
      "True\n"
     ]
    }
   ],
   "source": [
    "print(Tools().num_primo(7))"
   ]
  },
  {
   "cell_type": "code",
   "execution_count": 18,
   "metadata": {},
   "outputs": [
    {
     "name": "stdout",
     "output_type": "stream",
     "text": [
      "(11, 2)\n"
     ]
    }
   ],
   "source": [
    "lista = [1,8,11,2,5,411,8,10,7,11,]\n",
    "print(Tools().most_repeated_numbers(lista))"
   ]
  },
  {
   "cell_type": "code",
   "execution_count": 20,
   "metadata": {},
   "outputs": [
    {
     "name": "stdout",
     "output_type": "stream",
     "text": [
      "20F = 266.48°K\n"
     ]
    }
   ],
   "source": [
    "Tools().trans_temperature(20, 'F', 'K')"
   ]
  },
  {
   "cell_type": "code",
   "execution_count": 26,
   "metadata": {},
   "outputs": [
    {
     "data": {
      "text/plain": [
       "720"
      ]
     },
     "execution_count": 26,
     "metadata": {},
     "output_type": "execute_result"
    }
   ],
   "source": [
    "Tools().factorial(6)"
   ]
  },
  {
   "attachments": {},
   "cell_type": "markdown",
   "metadata": {},
   "source": [
    "7. Es necesario que la clase creada en el punto 5 contenga una lista, sobre la cual se aplquen las funciones incorporadas"
   ]
  },
  {
   "cell_type": "code",
   "execution_count": 75,
   "metadata": {},
   "outputs": [],
   "source": [
    "class Tools():\n",
    "    def __init__(self, lista_números) -> list:\n",
    "        self.lista = lista_números\n",
    "\n",
    "    def num_primo(self):\n",
    "        for i in self.lista:\n",
    "            if (self.__num_primo(i)):\n",
    "                print('El elemento', i, 'SI es un numero primo')\n",
    "            else:\n",
    "                print('El elemento', i, 'NO es un numero primo')\n",
    "\n",
    "    def __num_primo (self, numero) -> int:  # __name se refiere a un método privado, solo se usa dentro de la clase\n",
    "        for i in range(2, numero):\n",
    "            if (numero % i) == 0:\n",
    "                return False\n",
    "        return True\n",
    "\n",
    "\n",
    "\n",
    "    def most_repeated_numbers(self):\n",
    "        lista_unique = list(set(self.lista))\n",
    "        lista_count = []\n",
    "        result = []\n",
    "        \n",
    "        for i in range(len(lista_unique)):\n",
    "            lista_count.append([lista_unique[i], self.lista.count(lista_unique[i])])\n",
    "        \n",
    "        for i in range(len(lista_count)-1):\n",
    "            if lista_count[i][1] > lista_count[0][1]:\n",
    "                result = (lista_count[i][0], lista_count[i][1])\n",
    "        return result\n",
    "\n",
    "\n",
    "\n",
    "    def trans_temperature(self, origen, destino):\n",
    "        for i in self.lista:\n",
    "            self.__trans_temperature(i, origen, destino)\n",
    "\n",
    "    def __trans_temperature (self, value, unit_int, unit_out):\n",
    "        # transformation functions\n",
    "        def C_K(valor):\n",
    "            return (valor + 273.15)\n",
    "        def C_F(valor):\n",
    "            return ((valor * 9/5) + 32)\n",
    "        def F_C(valor):\n",
    "            return((valor - 32) * 5/9)\n",
    "        def K_C(valor):\n",
    "            return (valor - 273.15)\n",
    "\n",
    "        # options\n",
    "        if unit_int == 'K':\n",
    "            if unit_out == 'C':\n",
    "                return('{}°K = {:.2f}°C'.format(value, K_C(value)))\n",
    "            elif unit_out == 'F':\n",
    "                print('{}°K = {:.2f}F'.format(value, C_F(K_C(value))))\n",
    "            else:\n",
    "                print('{}°K = {}°K'.format(value, value))\n",
    "\n",
    "        elif unit_int == 'F':\n",
    "            if unit_out == 'C':\n",
    "                print('{}F = {:.2f}C'.format(value, F_C(value)))\n",
    "            elif unit_out == 'K':\n",
    "                print('{}F = {:.2f}°K'.format(value, C_K(F_C(value))))\n",
    "            else:\n",
    "                print('{}F = {}F'.format(value, value))\n",
    "\n",
    "        elif unit_int == 'C':\n",
    "            if unit_out == 'K':\n",
    "                print('{}°C = {:.2f}°K'.format(value, C_K(value)))\n",
    "            elif unit_out == 'F':\n",
    "                print('{}°C = {:.2f}F'.format(value, C_F(value)))\n",
    "            else:\n",
    "                print('{}°C = {}°C'.format(value, value))\n",
    "        else: \n",
    "            print(\"La opción seleccionada es incorrecta\")\n",
    "\n",
    "\n",
    "\n",
    "    def factorial (self):\n",
    "        for i in self.lista:\n",
    "            print('el factorial de', i, 'es:', self.__factorial(i))\n",
    "\n",
    "    def __factorial (self, valor) -> int:\n",
    "        if valor < 0:\n",
    "            return('the value must be positive')\n",
    "\n",
    "        if not type(valor) == int:\n",
    "            return('the value must be int')\n",
    "\n",
    "        if valor > 1 and type(valor) == int:\n",
    "            val_factorial = 1\n",
    "            n = 1\n",
    "            while n <= valor:\n",
    "                val_factorial *= n\n",
    "                n += 1\n",
    "            return (val_factorial)"
   ]
  },
  {
   "cell_type": "code",
   "execution_count": 47,
   "metadata": {},
   "outputs": [
    {
     "name": "stdout",
     "output_type": "stream",
     "text": [
      "El elemento 1 SI es un numero primo\n",
      "El elemento 1 SI es un numero primo\n",
      "El elemento 2 SI es un numero primo\n",
      "El elemento 5 SI es un numero primo\n",
      "El elemento 8 NO es un numero primo\n",
      "El elemento 8 NO es un numero primo\n",
      "El elemento 9 NO es un numero primo\n",
      "El elemento 11 SI es un numero primo\n",
      "El elemento 15 NO es un numero primo\n",
      "El elemento 16 NO es un numero primo\n",
      "El elemento 16 NO es un numero primo\n",
      "El elemento 16 NO es un numero primo\n",
      "El elemento 18 NO es un numero primo\n",
      "El elemento 20 NO es un numero primo\n"
     ]
    }
   ],
   "source": [
    "Tools([1,1,2,5,8,8,9,11,15,16,16,16,18,20]).num_primo()"
   ]
  },
  {
   "cell_type": "code",
   "execution_count": 61,
   "metadata": {},
   "outputs": [
    {
     "name": "stdout",
     "output_type": "stream",
     "text": [
      "1°C = 33.80F\n",
      "1°C = 33.80F\n",
      "2°C = 35.60F\n",
      "5°C = 41.00F\n",
      "8°C = 46.40F\n",
      "8°C = 46.40F\n",
      "9°C = 48.20F\n",
      "11°C = 51.80F\n",
      "15°C = 59.00F\n",
      "16°C = 60.80F\n",
      "16°C = 60.80F\n",
      "16°C = 60.80F\n",
      "18°C = 64.40F\n",
      "20°C = 68.00F\n"
     ]
    }
   ],
   "source": [
    "h = Tools([1,1,2,5,8,8,9,11,15,16,16,16,18,20])\n",
    "h.trans_temperature('C', 'F')"
   ]
  },
  {
   "cell_type": "code",
   "execution_count": 70,
   "metadata": {},
   "outputs": [
    {
     "data": {
      "text/plain": [
       "(16, 3)"
      ]
     },
     "execution_count": 70,
     "metadata": {},
     "output_type": "execute_result"
    }
   ],
   "source": [
    "h = Tools([1,1,2,5,8,8,9,11,15,16,16,16,18,20])\n",
    "h.most_repeated_numbers()"
   ]
  },
  {
   "cell_type": "code",
   "execution_count": 76,
   "metadata": {},
   "outputs": [
    {
     "name": "stdout",
     "output_type": "stream",
     "text": [
      "el factorial de 1 es: None\n",
      "el factorial de 1 es: None\n",
      "el factorial de 2 es: 2\n",
      "el factorial de 5 es: 120\n",
      "el factorial de 8 es: 40320\n",
      "el factorial de 8 es: 40320\n",
      "el factorial de 9 es: 362880\n",
      "el factorial de 11 es: 39916800\n",
      "el factorial de 15 es: 1307674368000\n",
      "el factorial de 16 es: 20922789888000\n",
      "el factorial de 16 es: 20922789888000\n",
      "el factorial de 16 es: 20922789888000\n",
      "el factorial de 18 es: 6402373705728000\n",
      "el factorial de 20 es: 2432902008176640000\n"
     ]
    }
   ],
   "source": [
    "h = Tools([1,1,2,5,8,8,9,11,15,16,16,16,18,20])\n",
    "h.factorial()"
   ]
  },
  {
   "attachments": {},
   "cell_type": "markdown",
   "metadata": {},
   "source": [
    "8) Crear un archivo .py aparte y ubicar allí la clase generada en el punto anterior. Luego realizar la importación del módulo y probar alguna de sus funciones"
   ]
  },
  {
   "cell_type": "code",
   "execution_count": 77,
   "metadata": {},
   "outputs": [],
   "source": [
    "from Tools import *"
   ]
  },
  {
   "cell_type": "code",
   "execution_count": 78,
   "metadata": {},
   "outputs": [
    {
     "name": "stdout",
     "output_type": "stream",
     "text": [
      "el factorial de 1 es: None\n",
      "el factorial de 1 es: None\n",
      "el factorial de 2 es: 2\n",
      "el factorial de 5 es: 120\n",
      "el factorial de 8 es: 40320\n",
      "el factorial de 8 es: 40320\n",
      "el factorial de 9 es: 362880\n",
      "el factorial de 11 es: 39916800\n",
      "el factorial de 15 es: 1307674368000\n",
      "el factorial de 16 es: 20922789888000\n",
      "el factorial de 16 es: 20922789888000\n",
      "el factorial de 16 es: 20922789888000\n",
      "el factorial de 18 es: 6402373705728000\n",
      "el factorial de 20 es: 2432902008176640000\n"
     ]
    }
   ],
   "source": [
    "h = Tools([1,1,2,5,8,8,9,11,15,16,16,16,18,20])\n",
    "h.factorial()"
   ]
  },
  {
   "cell_type": "code",
   "execution_count": 80,
   "metadata": {},
   "outputs": [
    {
     "name": "stdout",
     "output_type": "stream",
     "text": [
      "1F = -17.22C\n",
      "1F = -17.22C\n",
      "2F = -16.67C\n",
      "5F = -15.00C\n",
      "8F = -13.33C\n",
      "8F = -13.33C\n",
      "9F = -12.78C\n",
      "25F = -3.89C\n",
      "15F = -9.44C\n",
      "16F = -8.89C\n",
      "18F = -7.78C\n",
      "20F = -6.67C\n"
     ]
    }
   ],
   "source": [
    "h = Tools([1,1,2,5,8,8,9,25,15,16,18,20])\n",
    "h.trans_temperature('F', 'C')"
   ]
  },
  {
   "cell_type": "code",
   "execution_count": 81,
   "metadata": {},
   "outputs": [
    {
     "name": "stdout",
     "output_type": "stream",
     "text": [
      "El elemento 1 SI es un numero primo\n",
      "El elemento 1 SI es un numero primo\n",
      "El elemento 2 SI es un numero primo\n",
      "El elemento 5 SI es un numero primo\n",
      "El elemento 8 NO es un numero primo\n",
      "El elemento 8 NO es un numero primo\n",
      "El elemento 9 NO es un numero primo\n",
      "El elemento 25 NO es un numero primo\n",
      "El elemento 15 NO es un numero primo\n",
      "El elemento 16 NO es un numero primo\n",
      "El elemento 18 NO es un numero primo\n",
      "El elemento 20 NO es un numero primo\n"
     ]
    }
   ],
   "source": [
    "h.num_primo()"
   ]
  }
 ],
 "metadata": {
  "kernelspec": {
   "display_name": "env_DS",
   "language": "python",
   "name": "python3"
  },
  "language_info": {
   "codemirror_mode": {
    "name": "ipython",
    "version": 3
   },
   "file_extension": ".py",
   "mimetype": "text/x-python",
   "name": "python",
   "nbconvert_exporter": "python",
   "pygments_lexer": "ipython3",
   "version": "3.10.9"
  },
  "orig_nbformat": 4
 },
 "nbformat": 4,
 "nbformat_minor": 2
}
