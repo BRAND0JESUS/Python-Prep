{
 "cells": [
  {
   "attachments": {},
   "cell_type": "markdown",
   "metadata": {},
   "source": [
    "`Estructuras de Datos`\n",
    "\n",
    "1. Crear una lista que contenga nombres de ciudades del mundo que contenga más de 5 elementos e imprimir por pantalla\n",
    "\n",
    "2. Imprimir por pantalla el segundo elemento de la lista\n",
    "\n",
    "3. Imprimir por pantalla del segundo al cuarto elemento\n",
    "\n",
    "4. Visualizar el tipo de dato de la lista\n",
    "\n",
    "5. Visualizar todos los elementos de la lista a partir del tercero de manera genérica, es decir, sin explicitar la posición del último elemento\n",
    "\n",
    "6. Visualizar los primeros 4 elementos de la lista\n",
    "\n",
    "7. Agregar una ciudad más a la lista que ya exista y otra que no ¿Arroja algún tipo de error?\n",
    "\n",
    "8. Agregar otra ciudad, pero en la cuarta posición\n",
    "\n",
    "9. Concatenar otra lista a la ya creada\n",
    "\n",
    "10. Encontrar el índice de la ciudad que en el punto 7 agregamos duplicada. ¿Se nota alguna particularidad?\n",
    "\n",
    "11. ¿Qué pasa si se busca un elemento que no existe?\n",
    "\n",
    "12. Eliminar un elemento de la lista\n",
    "\n",
    "13. ¿Qué pasa si el elemento a eliminar no existe?\n",
    "\n",
    "14. Extraer el úlimo elemento de la lista, guardarlo en una variable e imprimirlo\n",
    "\n",
    "15. Mostrar la lista multiplicada por 4\n",
    "\n",
    "16. Crear una tupla que contenga los números enteros del 1 al 20\n",
    "\n",
    "17. Imprimir desde el índice 10 al 15 de la tupla\n",
    "\n",
    "18. Evaluar si los números 20 y 30 están dentro de la tupla\n",
    "\n",
    "19. Con la lista creada en el punto 1, validar la existencia del elemento 'París' y si no existe, agregarlo. Utilizar una variable e informar lo sucedido.\n",
    "\n",
    "20. Mostrar la cantidad de veces que se encuentra un elemento específico dentro de la tupla y de la lista\n",
    "\n",
    "21. Convertir la tupla en una lista\n",
    "\n",
    "22. Desempaquetar solo los primeros 3 elementos de la tupla en 3 variables\n",
    "\n",
    "23. Crear un diccionario utilizando la lista crada en el punto 1, asignandole la clave \"ciudad\". Agregar tambien otras claves, como puede ser \"Pais\" y \"Continente\".\n",
    "\n",
    "24. Imprimir las claves del diccionario\n",
    "\n",
    "25. Imprimir las ciudades a través de su clave"
   ]
  },
  {
   "cell_type": "code",
   "execution_count": 106,
   "metadata": {},
   "outputs": [
    {
     "data": {
      "text/plain": [
       "['Quito', 'London', 'Mexico', 'Madrid', 'Mosku']"
      ]
     },
     "execution_count": 106,
     "metadata": {},
     "output_type": "execute_result"
    }
   ],
   "source": [
    "# 1. Crear una lista que contenga nombres de ciudades del mundo que contenga más de 5 elementos e imprimir por pantalla\n",
    "cities = ['Quito', 'London', 'Mexico', 'Madrid', 'Mosku']\n",
    "cities_list = cities\n",
    "[city for city in cities]"
   ]
  },
  {
   "cell_type": "code",
   "execution_count": 107,
   "metadata": {},
   "outputs": [
    {
     "name": "stdout",
     "output_type": "stream",
     "text": [
      "London\n",
      "['London', 'Mexico', 'Madrid']\n"
     ]
    }
   ],
   "source": [
    "# 2. Imprimir por pantalla el segundo elemento de la lista\n",
    "print(cities[1])\n",
    "# 3. Imprimir por pantalla del segundo al cuarto elemento\n",
    "print(cities[1:4])"
   ]
  },
  {
   "cell_type": "code",
   "execution_count": 108,
   "metadata": {},
   "outputs": [
    {
     "data": {
      "text/plain": [
       "list"
      ]
     },
     "execution_count": 108,
     "metadata": {},
     "output_type": "execute_result"
    }
   ],
   "source": [
    "# 4. Visualizar el tipo de dato de la lista\n",
    "type(cities)"
   ]
  },
  {
   "cell_type": "code",
   "execution_count": 109,
   "metadata": {},
   "outputs": [
    {
     "name": "stdout",
     "output_type": "stream",
     "text": [
      "['Mexico', 'Madrid', 'Mosku']\n"
     ]
    }
   ],
   "source": [
    "# 5. Visualizar todos los elementos de la lista a partir del tercero de manera genérica,\n",
    "# es decir, sin explicitar la posición del último elemento\n",
    "print(cities[2:])"
   ]
  },
  {
   "cell_type": "code",
   "execution_count": 110,
   "metadata": {},
   "outputs": [
    {
     "name": "stdout",
     "output_type": "stream",
     "text": [
      "['Quito', 'London', 'Mexico', 'Madrid']\n"
     ]
    }
   ],
   "source": [
    "# 6. Visualizar los primeros 4 elementos de la lista\n",
    "print(cities[:4])"
   ]
  },
  {
   "cell_type": "code",
   "execution_count": 111,
   "metadata": {},
   "outputs": [
    {
     "data": {
      "text/plain": [
       "['Quito', 'London', 'Mexico', 'Madrid', 'Mosku', 'Quito', 'Riobamba']"
      ]
     },
     "execution_count": 111,
     "metadata": {},
     "output_type": "execute_result"
    }
   ],
   "source": [
    "# 7. Agregar una ciudad más a la lista que ya exista y otra que no ¿Arroja algún tipo de error?\n",
    "cities.append('Quito')\n",
    "cities.append('Riobamba')\n",
    "cities"
   ]
  },
  {
   "cell_type": "code",
   "execution_count": 112,
   "metadata": {},
   "outputs": [
    {
     "data": {
      "text/plain": [
       "['Quito',\n",
       " 'London',\n",
       " 'Mexico',\n",
       " 'New York',\n",
       " 'Madrid',\n",
       " 'Mosku',\n",
       " 'Quito',\n",
       " 'Riobamba']"
      ]
     },
     "execution_count": 112,
     "metadata": {},
     "output_type": "execute_result"
    }
   ],
   "source": [
    "# 8. Agregar otra ciudad, pero en la cuarta posición\n",
    "cities.insert(3, 'New York')\n",
    "cities"
   ]
  },
  {
   "cell_type": "code",
   "execution_count": 113,
   "metadata": {},
   "outputs": [
    {
     "data": {
      "text/plain": [
       "['Quito',\n",
       " 'London',\n",
       " 'Mexico',\n",
       " 'New York',\n",
       " 'Madrid',\n",
       " 'Mosku',\n",
       " 'Quito',\n",
       " 'Riobamba',\n",
       " 'Oslo',\n",
       " 'Monte Video',\n",
       " 'La Habana']"
      ]
     },
     "execution_count": 113,
     "metadata": {},
     "output_type": "execute_result"
    }
   ],
   "source": [
    "# 9. Concatenar otra lista a la ya creada\n",
    "cities_2 = ['Oslo', 'Monte Video', 'La Habana']\n",
    "cities.extend(cities_2)\n",
    "cities"
   ]
  },
  {
   "cell_type": "code",
   "execution_count": 114,
   "metadata": {},
   "outputs": [
    {
     "data": {
      "text/plain": [
       "0"
      ]
     },
     "execution_count": 114,
     "metadata": {},
     "output_type": "execute_result"
    }
   ],
   "source": [
    "# 10. Encontrar el índice de la ciudad que en el punto 7 agregamos duplicada. ¿Se nota alguna particularidad?\n",
    "cities.index('Quito')\n"
   ]
  },
  {
   "cell_type": "code",
   "execution_count": 115,
   "metadata": {},
   "outputs": [
    {
     "ename": "ValueError",
     "evalue": "'Cuenca' is not in list",
     "output_type": "error",
     "traceback": [
      "\u001b[1;31m---------------------------------------------------------------------------\u001b[0m",
      "\u001b[1;31mValueError\u001b[0m                                Traceback (most recent call last)",
      "Cell \u001b[1;32mIn[115], line 2\u001b[0m\n\u001b[0;32m      1\u001b[0m \u001b[39m# 11. ¿Qué pasa si se busca un elemento que no existe?\u001b[39;00m\n\u001b[1;32m----> 2\u001b[0m cities\u001b[39m.\u001b[39;49mindex(\u001b[39m'\u001b[39;49m\u001b[39mCuenca\u001b[39;49m\u001b[39m'\u001b[39;49m)\n\u001b[0;32m      3\u001b[0m \u001b[39m'\u001b[39m\u001b[39mCuenca\u001b[39m\u001b[39m'\u001b[39m \u001b[39min\u001b[39;00m cities\n",
      "\u001b[1;31mValueError\u001b[0m: 'Cuenca' is not in list"
     ]
    }
   ],
   "source": [
    "# 11. ¿Qué pasa si se busca un elemento que no existe?\n",
    "cities.index('Cuenca')\n",
    "'Cuenca' in cities"
   ]
  },
  {
   "cell_type": "code",
   "execution_count": 116,
   "metadata": {},
   "outputs": [
    {
     "data": {
      "text/plain": [
       "['London',\n",
       " 'Mexico',\n",
       " 'New York',\n",
       " 'Madrid',\n",
       " 'Mosku',\n",
       " 'Quito',\n",
       " 'Riobamba',\n",
       " 'Oslo',\n",
       " 'Monte Video',\n",
       " 'La Habana']"
      ]
     },
     "execution_count": 116,
     "metadata": {},
     "output_type": "execute_result"
    }
   ],
   "source": [
    "# 12. Eliminar un elemento de la lista\n",
    "cities.remove('Quito')\n",
    "cities"
   ]
  },
  {
   "cell_type": "code",
   "execution_count": 117,
   "metadata": {},
   "outputs": [
    {
     "ename": "ValueError",
     "evalue": "list.remove(x): x not in list",
     "output_type": "error",
     "traceback": [
      "\u001b[1;31m---------------------------------------------------------------------------\u001b[0m",
      "\u001b[1;31mValueError\u001b[0m                                Traceback (most recent call last)",
      "Cell \u001b[1;32mIn[117], line 2\u001b[0m\n\u001b[0;32m      1\u001b[0m \u001b[39m# 13. ¿Qué pasa si el elemento a eliminar no existe?\u001b[39;00m\n\u001b[1;32m----> 2\u001b[0m cities\u001b[39m.\u001b[39;49mremove(\u001b[39m'\u001b[39;49m\u001b[39mCuenca\u001b[39;49m\u001b[39m'\u001b[39;49m)\n",
      "\u001b[1;31mValueError\u001b[0m: list.remove(x): x not in list"
     ]
    }
   ],
   "source": [
    "# 13. ¿Qué pasa si el elemento a eliminar no existe?\n",
    "cities.remove('Cuenca')"
   ]
  },
  {
   "cell_type": "code",
   "execution_count": 118,
   "metadata": {},
   "outputs": [
    {
     "name": "stdout",
     "output_type": "stream",
     "text": [
      "Quito\n"
     ]
    }
   ],
   "source": [
    "# 14. Extraer eI úlimo elemento de la lista, guardarlo en una variable e imprimirlo\n",
    "last_element = cities.pop(-5)\n",
    "print(last_element)"
   ]
  },
  {
   "cell_type": "code",
   "execution_count": 119,
   "metadata": {},
   "outputs": [
    {
     "data": {
      "text/plain": [
       "['London',\n",
       " 'Mexico',\n",
       " 'New York',\n",
       " 'Madrid',\n",
       " 'Mosku',\n",
       " 'Riobamba',\n",
       " 'Oslo',\n",
       " 'Monte Video',\n",
       " 'La Habana']"
      ]
     },
     "execution_count": 119,
     "metadata": {},
     "output_type": "execute_result"
    }
   ],
   "source": [
    "cities"
   ]
  },
  {
   "cell_type": "code",
   "execution_count": 120,
   "metadata": {},
   "outputs": [
    {
     "name": "stdout",
     "output_type": "stream",
     "text": [
      "Madrid\n"
     ]
    }
   ],
   "source": [
    "last_element = cities.pop(3)\n",
    "print(last_element)"
   ]
  },
  {
   "cell_type": "code",
   "execution_count": 121,
   "metadata": {},
   "outputs": [
    {
     "data": {
      "text/plain": [
       "['London',\n",
       " 'Mexico',\n",
       " 'New York',\n",
       " 'Mosku',\n",
       " 'Riobamba',\n",
       " 'Oslo',\n",
       " 'Monte Video',\n",
       " 'La Habana']"
      ]
     },
     "execution_count": 121,
     "metadata": {},
     "output_type": "execute_result"
    }
   ],
   "source": [
    "cities"
   ]
  },
  {
   "cell_type": "code",
   "execution_count": 122,
   "metadata": {},
   "outputs": [
    {
     "name": "stdout",
     "output_type": "stream",
     "text": [
      "['London', 'Mexico', 'New York', 'Mosku', 'Riobamba', 'Oslo', 'Monte Video', 'La Habana', 'London', 'Mexico', 'New York', 'Mosku', 'Riobamba', 'Oslo', 'Monte Video', 'La Habana', 'London', 'Mexico', 'New York', 'Mosku', 'Riobamba', 'Oslo', 'Monte Video', 'La Habana', 'London', 'Mexico', 'New York', 'Mosku', 'Riobamba', 'Oslo', 'Monte Video', 'La Habana']\n"
     ]
    }
   ],
   "source": [
    "# 15. Mostrar la lista multiplicada por 4\n",
    "print(cities*4)"
   ]
  },
  {
   "cell_type": "code",
   "execution_count": 130,
   "metadata": {},
   "outputs": [
    {
     "data": {
      "text/plain": [
       "(1, 2, 3, 4, 5, 6, 7, 8, 9, 10, 11, 12, 13, 14, 15, 16, 17, 18, 19, 20)"
      ]
     },
     "execution_count": 130,
     "metadata": {},
     "output_type": "execute_result"
    }
   ],
   "source": [
    "# 16. Crear una tupla que contenga los números enteros del 1 al 20\n",
    "tupla = tuple(range(1,21))\n",
    "tupla"
   ]
  },
  {
   "cell_type": "code",
   "execution_count": 124,
   "metadata": {},
   "outputs": [
    {
     "data": {
      "text/plain": [
       "[10, 11, 12, 13, 14, 15]"
      ]
     },
     "execution_count": 124,
     "metadata": {},
     "output_type": "execute_result"
    }
   ],
   "source": [
    "# 17. Imprimir desde el índice 10 al 15 de la tupla\n",
    "[tupla.index(elem) for elem in tupla if tupla.index(elem) >=10 and tupla.index(elem) <=15]"
   ]
  },
  {
   "cell_type": "code",
   "execution_count": 125,
   "metadata": {},
   "outputs": [
    {
     "name": "stdout",
     "output_type": "stream",
     "text": [
      "True\n",
      "False\n"
     ]
    }
   ],
   "source": [
    "# 18. Evaluar si los números 20 y 30 están dentro de la tupla\n",
    "print(20 in tupla)\n",
    "print(30 in tupla)"
   ]
  },
  {
   "cell_type": "code",
   "execution_count": 126,
   "metadata": {},
   "outputs": [
    {
     "name": "stdout",
     "output_type": "stream",
     "text": [
      "The city wasn't included in cities list, so we added\n",
      "['London', 'Mexico', 'New York', 'Mosku', 'Riobamba', 'Oslo', 'Monte Video', 'La Habana', 'Paris']\n"
     ]
    }
   ],
   "source": [
    "# 19. Con la lista creada en el punto 1, validar la existencia del elemento 'París' y si no existe,\n",
    "# agregarlo. Utilizar una variable e informar lo sucedido.\n",
    "city = 'Paris'\n",
    "if city in cities_list:\n",
    "    print('The city is included in cities list')\n",
    "else:\n",
    "    cities_list.append(city)\n",
    "    print(\"The city wasn't included in cities list, so we added\")\n",
    "print(cities_list)"
   ]
  },
  {
   "cell_type": "code",
   "execution_count": 134,
   "metadata": {},
   "outputs": [
    {
     "name": "stdout",
     "output_type": "stream",
     "text": [
      "1\n",
      "1\n"
     ]
    }
   ],
   "source": [
    "# 20. Mostrar la cantidad de veces que se encuentra un elemento específico dentro de la tupla y de la lista\n",
    "print(tupla.count(5))\n",
    "print(cities.count('New York'))"
   ]
  },
  {
   "cell_type": "code",
   "execution_count": 136,
   "metadata": {},
   "outputs": [
    {
     "data": {
      "text/plain": [
       "[1, 2, 3, 4, 5, 6, 7, 8, 9, 10, 11, 12, 13, 14, 15, 16, 17, 18, 19, 20]"
      ]
     },
     "execution_count": 136,
     "metadata": {},
     "output_type": "execute_result"
    }
   ],
   "source": [
    "# 21. Convertir la tupla en una lista\n",
    "tupla_to_list = list(tupla)\n",
    "tupla_to_list"
   ]
  },
  {
   "cell_type": "code",
   "execution_count": 139,
   "metadata": {},
   "outputs": [
    {
     "name": "stdout",
     "output_type": "stream",
     "text": [
      "1 2 3\n"
     ]
    }
   ],
   "source": [
    "# 22. Desempaquetar solo los primeros 3 elementos de la tupla en 3 variables\n",
    "a, b, c  = tupla_to_list[:3]\n",
    "print(a,b,c)"
   ]
  },
  {
   "cell_type": "code",
   "execution_count": 142,
   "metadata": {},
   "outputs": [
    {
     "data": {
      "text/plain": [
       "{'ciudad': ['London',\n",
       "  'Mexico',\n",
       "  'New York',\n",
       "  'Mosku',\n",
       "  'Riobamba',\n",
       "  'Oslo',\n",
       "  'Monte Video',\n",
       "  'La Habana',\n",
       "  'Paris'],\n",
       " 'País': ['Ecuador', 'Canada', 'Argentina'],\n",
       " 'Continente': ['America', 'Europe', 'Africa']}"
      ]
     },
     "execution_count": 142,
     "metadata": {},
     "output_type": "execute_result"
    }
   ],
   "source": [
    "# 23. Crear un diccionario utilizando la lista crada en el punto 1, asignandole la clave \"ciudad\".\n",
    "# Agregar tambien otras claves, como puede ser \"Pais\" y \"Continente\".\n",
    "dictionary = {'ciudad': cities_list,\n",
    "             'País': ['Ecuador', 'Canada', 'Argentina'],\n",
    "             'Continente': ['America', 'Europe', 'Africa']}\n",
    "dictionary"
   ]
  },
  {
   "cell_type": "code",
   "execution_count": 153,
   "metadata": {},
   "outputs": [
    {
     "name": "stdout",
     "output_type": "stream",
     "text": [
      "dict_keys(['ciudad', 'País', 'Continente'])\n"
     ]
    }
   ],
   "source": [
    "# 24. Imprimir las claves del diccionario\n",
    "print(dictionary.keys())"
   ]
  },
  {
   "cell_type": "code",
   "execution_count": 154,
   "metadata": {},
   "outputs": [
    {
     "name": "stdout",
     "output_type": "stream",
     "text": [
      "['London', 'Mexico', 'New York', 'Mosku', 'Riobamba', 'Oslo', 'Monte Video', 'La Habana', 'Paris']\n"
     ]
    }
   ],
   "source": [
    "# 25. Imprimir las ciudades a través de su clave\n",
    "print(dictionary['ciudad'])"
   ]
  }
 ],
 "metadata": {
  "kernelspec": {
   "display_name": "env_DS",
   "language": "python",
   "name": "python3"
  },
  "language_info": {
   "codemirror_mode": {
    "name": "ipython",
    "version": 3
   },
   "file_extension": ".py",
   "mimetype": "text/x-python",
   "name": "python",
   "nbconvert_exporter": "python",
   "pygments_lexer": "ipython3",
   "version": "3.10.9"
  },
  "orig_nbformat": 4
 },
 "nbformat": 4,
 "nbformat_minor": 2
}
