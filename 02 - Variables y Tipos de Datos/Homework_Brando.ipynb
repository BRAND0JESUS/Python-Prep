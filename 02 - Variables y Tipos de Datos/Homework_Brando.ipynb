{
 "cells": [
  {
   "attachments": {},
   "cell_type": "markdown",
   "metadata": {},
   "source": [
    "## ``VARIABLES``\n",
    "\n",
    "1. Crear una variable que contenga un elemento del conjunto de números enteros y luego imprimir por pantalla\n",
    "\n",
    "2. Imprimir el tipo de dato de la constante 8.5\n",
    "\n",
    "3. Imprimir el tipo de dato de la variable creada en el punto 1\n",
    "\n",
    "4. Crear una variable que contenga tu nombre\n",
    "\n",
    "5. Crear una variable que contenga un número complejo\n",
    "\n",
    "6. Mostrar el tipo de dato de la variable crada en el punto 5\n",
    "\n",
    "7. Crear una variable que contenga el valor del número Pi redondeado a 4 decimales\n",
    "\n",
    "8. Crear una variable que contenga el valor 'True' y otra que contenga el valor True. ¿Se trata de lo mismo?\n",
    "\n",
    "9. Imprimir el tipo de dato correspondientes a las variables creadas en el punto 9\n",
    "\n",
    "10. Asignar a una variable, la suma de un número entero y otro decimal\n",
    "\n",
    "11. Realizar una operación de suma de números complejos\n",
    "\n",
    "12. Realizar una operación de suma de un número real y otro complejo\n",
    "\n",
    "13. Realizar una operación de multiplicación\n",
    "\n",
    "14. Mostrar el resultado de elevar 2 a la octava potencia\n",
    "\n",
    "15. Obtener el cociente de la división de 27 entre 4 en una variable y luego mostrarla\n",
    "\n",
    "16. De la división anterior solamente mostrar la parte entera\n",
    "\n",
    "17. De la división de 27 entre 4 mostrar solamente el resto\n",
    "\n",
    "18. Utilizando como operandos el número 4 y los resultados obtenidos en los puntos 16 y 17. Obtener 27 como resultado\n",
    "\n",
    "19. Utilizar el operador \"+\" en una operación donde intervengan solo variables alfanuméricas\n",
    "\n",
    "20. Evaluar si \"2\" es igual a 2. ¿Por qué ocurre eso?\n",
    "\n",
    "21. Utilizar las funciones de cambio de tipo de dato, para que la validación del punto 20 resulte verdadera\n",
    "\n",
    "22. ¿Por qué arroja error el siguiente cambio de tipo de datos? a = float('3,8')\n",
    "\n",
    "23. Crear una variable con el valor 3, y utilizar el operador '-=' para modificar su contenido\n",
    "\n",
    "24. Realizar la operacion 1 << 2 ¿Por qué da ese resultado? ¿Qué es el sistema de numeración binario?\n",
    "\n",
    "25. Realizar la operación 2 + '2' ¿Por qué no está permitido? ¿Si los dos operandos serían del mismo tipo, siempre arrojaría el mismo resultado?\n",
    "\n",
    "26. Realizar una operación válida entre valores de tipo entero y string"
   ]
  },
  {
   "cell_type": "code",
   "execution_count": 1,
   "metadata": {},
   "outputs": [
    {
     "name": "stdout",
     "output_type": "stream",
     "text": [
      "5\n"
     ]
    }
   ],
   "source": [
    "# 1. Crear una variable que contenga un elemento del conjunto de números enteros y luego imprimir por pantalla\n",
    "num_entero = 5\n",
    "print(num_entero)"
   ]
  },
  {
   "cell_type": "code",
   "execution_count": 2,
   "metadata": {},
   "outputs": [
    {
     "data": {
      "text/plain": [
       "float"
      ]
     },
     "execution_count": 2,
     "metadata": {},
     "output_type": "execute_result"
    }
   ],
   "source": [
    "# 2. Imprimir el tipo de dato de la constante 8.5\n",
    "num_float = 8.5\n",
    "type(num_float)"
   ]
  },
  {
   "cell_type": "code",
   "execution_count": 3,
   "metadata": {},
   "outputs": [
    {
     "data": {
      "text/plain": [
       "int"
      ]
     },
     "execution_count": 3,
     "metadata": {},
     "output_type": "execute_result"
    }
   ],
   "source": [
    "# 3. Imprimir el tipo de dato de la variable creada en el punto 1\n",
    "type(num_entero)"
   ]
  },
  {
   "cell_type": "code",
   "execution_count": 4,
   "metadata": {},
   "outputs": [],
   "source": [
    "# 4. Crear una variable que contenga tu nombre\n",
    "my_name = 'Brando'"
   ]
  },
  {
   "cell_type": "code",
   "execution_count": 5,
   "metadata": {},
   "outputs": [
    {
     "name": "stdout",
     "output_type": "stream",
     "text": [
      "(14+7j)\n"
     ]
    }
   ],
   "source": [
    "# 5. Crear una variable que contenga un número complejo\n",
    "num_comlex = 14 + 7j\n",
    "print(num_comlex)"
   ]
  },
  {
   "cell_type": "code",
   "execution_count": 6,
   "metadata": {},
   "outputs": [
    {
     "data": {
      "text/plain": [
       "complex"
      ]
     },
     "execution_count": 6,
     "metadata": {},
     "output_type": "execute_result"
    }
   ],
   "source": [
    "# 6. Mostrar el tipo de dato de la variable crada en el punto 5\n",
    "type(num_comlex)"
   ]
  },
  {
   "cell_type": "code",
   "execution_count": 7,
   "metadata": {},
   "outputs": [
    {
     "name": "stdout",
     "output_type": "stream",
     "text": [
      "3.1416\n"
     ]
    }
   ],
   "source": [
    "# 7. Crear una variable que contenga el valor del número Pi redondeado a 4 decimales\n",
    "import math\n",
    "pi = math.pi\n",
    "print(round(pi, 4))"
   ]
  },
  {
   "cell_type": "code",
   "execution_count": 8,
   "metadata": {},
   "outputs": [],
   "source": [
    "# 8. Crear una variable que contenga el valor 'True' y otra que contenga el valor True. ¿Se trata de lo mismo?\n",
    "\"\"\"\n",
    "No se trata de lo mismo ya la primera trata de una variable tipo string y la segunda de tipo boleano\n",
    "\"\"\"\n",
    "var_1 = 'True'\n",
    "var_2 = True"
   ]
  },
  {
   "cell_type": "code",
   "execution_count": 9,
   "metadata": {},
   "outputs": [
    {
     "name": "stdout",
     "output_type": "stream",
     "text": [
      "la primera variable es de tipo <class 'str'> mientras que la segunda es de tipo <class 'bool'>\n"
     ]
    }
   ],
   "source": [
    "# 9. Imprimir el tipo de dato correspondientes a las variables creadas en el punto 9\n",
    "print(\"la primera variable es de tipo {} mientras que la segunda es de tipo {}\".format(type(var_1), type(var_2)))"
   ]
  },
  {
   "cell_type": "code",
   "execution_count": 10,
   "metadata": {},
   "outputs": [
    {
     "name": "stdout",
     "output_type": "stream",
     "text": [
      "24.2\n"
     ]
    }
   ],
   "source": [
    "# 10. Asignar a una variable, la suma de un número entero y otro decimal\n",
    "var_3 = 10\n",
    "var_4 = 14.2\n",
    "print(var_3 + var_4)"
   ]
  },
  {
   "cell_type": "code",
   "execution_count": 11,
   "metadata": {},
   "outputs": [],
   "source": [
    "# 11. Realizar una operación de suma de números complejos\n"
   ]
  },
  {
   "cell_type": "code",
   "execution_count": null,
   "metadata": {},
   "outputs": [],
   "source": [
    "\n",
    "# 12. Realizar una operación de suma de un número real y otro complejo\n",
    "\n",
    "# 13. Realizar una operación de multiplicación\n",
    "\n",
    "# 14. Mostrar el resultado de elevar 2 a la octava potencia\n",
    "\n",
    "# 15. Obtener el cociente de la división de 27 entre 4 en una variable y luego mostrarla\n",
    "\n",
    "# 16. De la división anterior solamente mostrar la parte entera\n",
    "\n",
    "# 17. De la división de 27 entre 4 mostrar solamente el resto\n",
    "\n",
    "# 18. Utilizando como operandos el número 4 y los resultados obtenidos en los puntos 16 y 17. Obtener 27 como resultado\n",
    "\n",
    "# 19. Utilizar el operador \"+\" en una operación donde intervengan solo variables alfanuméricas\n",
    "\n",
    "# 20. Evaluar si \"2\" es igual a 2. ¿Por qué ocurre eso?\n",
    "\n",
    "# 21. Utilizar las funciones de cambio de tipo de dato, para que la validación del punto 20 resulte verdadera\n",
    "\n",
    "# 22. ¿Por qué arroja error el siguiente cambio de tipo de datos? a = float('3,8')\n",
    "\n",
    "# 23. Crear una variable con el valor 3, y utilizar el operador '-=' para modificar su contenido\n",
    "\n",
    "# 24. Realizar la operacion 1 << 2 ¿Por qué da ese resultado? ¿Qué es el sistema de numeración binario?\n",
    "\n",
    "# 25. Realizar la operación 2 + '2' ¿Por qué no está permitido? ¿Si los dos operandos serían del mismo tipo, siempre arrojaría el mismo resultado?\n",
    "\n",
    "# 26. Realizar una operación válida entre valores de tipo entero y string"
   ]
  }
 ],
 "metadata": {
  "kernelspec": {
   "display_name": "env_DS",
   "language": "python",
   "name": "python3"
  },
  "language_info": {
   "codemirror_mode": {
    "name": "ipython",
    "version": 3
   },
   "file_extension": ".py",
   "mimetype": "text/x-python",
   "name": "python",
   "nbconvert_exporter": "python",
   "pygments_lexer": "ipython3",
   "version": "3.10.9"
  },
  "orig_nbformat": 4,
  "vscode": {
   "interpreter": {
    "hash": "360c0910c5b5518c3e85074a2c2053b33b5560da6c103bf5734fb3ba6663ee65"
   }
  }
 },
 "nbformat": 4,
 "nbformat_minor": 2
}
