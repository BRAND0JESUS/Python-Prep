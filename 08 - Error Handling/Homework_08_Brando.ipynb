{
 "cells": [
  {
   "attachments": {},
   "cell_type": "markdown",
   "metadata": {},
   "source": [
    "# `Manejo de errores`\n",
    "1. Con la clase creada en el módulo 7, tener en cuenta diferentes casos en que el código pudiera arrojar error. Por ejemplo, en la creación del objeto recibimos una lista de números enteros pero ¿qué pasa si se envía otro tipo de dato?"
   ]
  },
  {
   "cell_type": "code",
   "execution_count": 30,
   "metadata": {},
   "outputs": [],
   "source": [
    "import sys\n",
    "sys.path.append(r'C:/Users/brand/OneDrive/Documents/Soy Henry/Python-Prep/07 - Clases & OOP')"
   ]
  },
  {
   "cell_type": "code",
   "execution_count": 31,
   "metadata": {},
   "outputs": [
    {
     "name": "stdout",
     "output_type": "stream",
     "text": [
      "<tools.Tools object at 0x0000020E68A1C880>\n"
     ]
    }
   ],
   "source": [
    "import tools as h\n",
    "h1 = h.Tools('hola')\n",
    "print(h1)"
   ]
  },
  {
   "attachments": {},
   "cell_type": "markdown",
   "metadata": {},
   "source": [
    "2) En la función que hace la conversión de grados, validar que los parámetros enviados sean los esperados, de no serlo, informar cuáles son los valores esperados."
   ]
  },
  {
   "cell_type": "code",
   "execution_count": 32,
   "metadata": {},
   "outputs": [
    {
     "data": {
      "text/plain": [
       "<module 'tools' from 'C:\\\\Users/brand/OneDrive/Documents/Soy Henry/Python-Prep/07 - Clases & OOP\\\\tools.py'>"
      ]
     },
     "execution_count": 32,
     "metadata": {},
     "output_type": "execute_result"
    }
   ],
   "source": [
    "import importlib\n",
    "importlib.reload(h)"
   ]
  },
  {
   "cell_type": "code",
   "execution_count": 33,
   "metadata": {},
   "outputs": [
    {
     "name": "stdout",
     "output_type": "stream",
     "text": [
      "La opción seleccionada es incorrecta\n",
      "La opción seleccionada es incorrecta\n",
      "La opción seleccionada es incorrecta\n",
      "La opción seleccionada es incorrecta\n",
      "La opción seleccionada es incorrecta\n"
     ]
    },
    {
     "data": {
      "text/plain": [
       "[None, None, None, None, None]"
      ]
     },
     "execution_count": 33,
     "metadata": {},
     "output_type": "execute_result"
    }
   ],
   "source": [
    "# h1.trans_temperature('K', 'F')\n",
    "h1 = h.Tools([2,3,5,6,2])\n",
    "h1.trans_temperature(2, 1)"
   ]
  },
  {
   "cell_type": "code",
   "execution_count": 34,
   "metadata": {},
   "outputs": [
    {
     "name": "stdout",
     "output_type": "stream",
     "text": [
      "2°K = -456.07F\n",
      "3°K = -454.27F\n",
      "5°K = -450.67F\n",
      "6°K = -448.87F\n",
      "2°K = -456.07F\n"
     ]
    },
    {
     "data": {
      "text/plain": [
       "[None, None, None, None, None]"
      ]
     },
     "execution_count": 34,
     "metadata": {},
     "output_type": "execute_result"
    }
   ],
   "source": [
    "h1.trans_temperature('K', 'F')"
   ]
  },
  {
   "attachments": {},
   "cell_type": "markdown",
   "metadata": {},
   "source": [
    "3) Importar el modulo \"unittest\" y crear los siguientes casos de pruebas sobre la clase utilizada en el punto 2<br>\n",
    "Creacion del objeto incorrecta<br>\n",
    "Creacion correcta del objeto<br>\n",
    "Metodo valor_modal()<br>\n",
    "\n",
    "Se puede usar \"raise ValueError()\" en la creación de la clase para verificar el error. Investigar sobre esta funcionalidad."
   ]
  },
  {
   "cell_type": "code",
   "execution_count": 35,
   "metadata": {},
   "outputs": [],
   "source": [
    "import unittest"
   ]
  },
  {
   "cell_type": "code",
   "execution_count": 36,
   "metadata": {},
   "outputs": [],
   "source": [
    "class ProbandoMiClase (unittest.TestCase):\n",
    "\n",
    "    def crear_objeto_A(self):\n",
    "        param = 'hola'\n",
    "        self.assertRaises(ValueError, h.Tools, param)\n",
    "\n",
    "    def crear_objeto_B(self):\n",
    "        param = [1,8,2,3,4,8,5,6,5,7,8,9,10]\n",
    "        h1 = h.Tools(param)\n",
    "        self.assertEqual(h1.lista, param)\n",
    "\n",
    "    def test_valor_modal(self):\n",
    "        lis = [1,8,2,3,4,8,5,6,5,7,8,9,10]\n",
    "        h1 = h.Tools(lis)\n",
    "        moda, veces = h1.most_repeated_numbers()\n",
    "        moda = [moda]\n",
    "        moda.append(veces)\n",
    "        resultado = [8, 3]\n",
    "        self.assertEqual(moda, resultado)"
   ]
  },
  {
   "cell_type": "code",
   "execution_count": 37,
   "metadata": {},
   "outputs": [
    {
     "name": "stderr",
     "output_type": "stream",
     "text": [
      "test_valor_modal (__main__.ProbandoMiClase) ... ok\n",
      "test_verificación_primos (__main__.ProbandoMiClase2) ... ok\n",
      "test_verificación_temperatura_conversion (__main__.ProbandoMiClase3) ... FAIL\n",
      "test_factorial (__main__.ProbandoMiClase4) ... ok\n",
      "\n",
      "======================================================================\n",
      "FAIL: test_verificación_temperatura_conversion (__main__.ProbandoMiClase3)\n",
      "----------------------------------------------------------------------\n",
      "Traceback (most recent call last):\n",
      "  File \"C:\\Users\\brand\\AppData\\Local\\Temp\\ipykernel_13248\\4196865384.py\", line 11, in test_verificación_temperatura_conversion\n",
      "    self.assertEqual(tem_conversion, tem_esperada)\n",
      "AssertionError: Lists differ: [None, None, None, None, None] != ['2°C = 35.6F', '3°C = 37.4F', '5°C = 46.4F', '6°C = 50.0F', '2°C = 55.4F']\n",
      "\n",
      "First differing element 0:\n",
      "None\n",
      "'2°C = 35.6F'\n",
      "\n",
      "- [None, None, None, None, None]\n",
      "+ ['2°C = 35.6F', '3°C = 37.4F', '5°C = 46.4F', '6°C = 50.0F', '2°C = 55.4F']\n",
      "\n",
      "----------------------------------------------------------------------\n",
      "Ran 4 tests in 0.009s\n",
      "\n",
      "FAILED (failures=1)\n"
     ]
    },
    {
     "name": "stdout",
     "output_type": "stream",
     "text": [
      "El elemento 2 SI es un numero primo\n",
      "El elemento 3 SI es un numero primo\n",
      "El elemento 8 NO es un numero primo\n",
      "El elemento 10 NO es un numero primo\n",
      "El elemento 13 SI es un numero primo\n",
      "2°C = 35.6F\n",
      "3°C = 37.4F\n",
      "8°C = 46.4F\n",
      "10°C = 50.0F\n",
      "13°C = 55.4F\n",
      "el factorial de 2 es: 2\n",
      "el factorial de 3 es: 6\n",
      "el factorial de 8 es: 40320\n",
      "el factorial de 10 es: 3628800\n"
     ]
    },
    {
     "data": {
      "text/plain": [
       "<unittest.main.TestProgram at 0x20e68a150c0>"
      ]
     },
     "execution_count": 37,
     "metadata": {},
     "output_type": "execute_result"
    }
   ],
   "source": [
    "unittest.main(argv=[''], verbosity=2, exit=False)"
   ]
  },
  {
   "attachments": {},
   "cell_type": "markdown",
   "metadata": {},
   "source": [
    "4) Probar una creación incorrecta y visualizar la salida del \"raise\""
   ]
  },
  {
   "cell_type": "code",
   "execution_count": 38,
   "metadata": {},
   "outputs": [],
   "source": [
    "h2 = h.Tools('algo')"
   ]
  },
  {
   "attachments": {},
   "cell_type": "markdown",
   "metadata": {},
   "source": [
    "5. Agregar casos de pruebas para el método verifica_primos() realizando el cambio en la clase, para que devuelva una lista de True o False en función de que el elemento en la posisicón sea o no primo"
   ]
  },
  {
   "cell_type": "code",
   "execution_count": 39,
   "metadata": {},
   "outputs": [],
   "source": [
    "class ProbandoMiClase2(unittest.TestCase):\n",
    "    \n",
    "    def test_verificación_primos(self):\n",
    "        lis = [2,3,8,10,13]\n",
    "        h1 = h.Tools(lis)\n",
    "        primos = h1.num_primo()\n",
    "        primos_esperados = [True, True, False, False, True]\n",
    "        self.assertEqual(primos, primos_esperados)"
   ]
  },
  {
   "cell_type": "code",
   "execution_count": 40,
   "metadata": {},
   "outputs": [
    {
     "data": {
      "text/plain": [
       "<module 'tools' from 'C:\\\\Users/brand/OneDrive/Documents/Soy Henry/Python-Prep/07 - Clases & OOP\\\\tools.py'>"
      ]
     },
     "execution_count": 40,
     "metadata": {},
     "output_type": "execute_result"
    }
   ],
   "source": [
    "importlib.reload(h)"
   ]
  },
  {
   "cell_type": "code",
   "execution_count": 41,
   "metadata": {},
   "outputs": [
    {
     "name": "stderr",
     "output_type": "stream",
     "text": [
      "test_valor_modal (__main__.ProbandoMiClase) ... ok\n",
      "test_verificación_primos (__main__.ProbandoMiClase2) ... ok\n",
      "test_verificación_temperatura_conversion (__main__.ProbandoMiClase3) ... FAIL\n",
      "test_factorial (__main__.ProbandoMiClase4) ... ok\n",
      "\n",
      "======================================================================\n",
      "FAIL: test_verificación_temperatura_conversion (__main__.ProbandoMiClase3)\n",
      "----------------------------------------------------------------------\n",
      "Traceback (most recent call last):\n",
      "  File \"C:\\Users\\brand\\AppData\\Local\\Temp\\ipykernel_13248\\4196865384.py\", line 11, in test_verificación_temperatura_conversion\n",
      "    self.assertEqual(tem_conversion, tem_esperada)\n",
      "AssertionError: Lists differ: [None, None, None, None, None] != ['2°C = 35.6F', '3°C = 37.4F', '5°C = 46.4F', '6°C = 50.0F', '2°C = 55.4F']\n",
      "\n",
      "First differing element 0:\n",
      "None\n",
      "'2°C = 35.6F'\n",
      "\n",
      "- [None, None, None, None, None]\n",
      "+ ['2°C = 35.6F', '3°C = 37.4F', '5°C = 46.4F', '6°C = 50.0F', '2°C = 55.4F']\n",
      "\n",
      "----------------------------------------------------------------------\n",
      "Ran 4 tests in 0.011s\n",
      "\n",
      "FAILED (failures=1)\n"
     ]
    },
    {
     "name": "stdout",
     "output_type": "stream",
     "text": [
      "El elemento 2 SI es un numero primo\n",
      "El elemento 3 SI es un numero primo\n",
      "El elemento 8 NO es un numero primo\n",
      "El elemento 10 NO es un numero primo\n",
      "El elemento 13 SI es un numero primo\n",
      "2°C = 35.6F\n",
      "3°C = 37.4F\n",
      "8°C = 46.4F\n",
      "10°C = 50.0F\n",
      "13°C = 55.4F\n",
      "el factorial de 2 es: 2\n",
      "el factorial de 3 es: 6\n",
      "el factorial de 8 es: 40320\n",
      "el factorial de 10 es: 3628800\n"
     ]
    },
    {
     "data": {
      "text/plain": [
       "<unittest.main.TestProgram at 0x20e68a17b50>"
      ]
     },
     "execution_count": 41,
     "metadata": {},
     "output_type": "execute_result"
    }
   ],
   "source": [
    "unittest.main(argv=[''], verbosity=2, exit=False)"
   ]
  },
  {
   "attachments": {},
   "cell_type": "markdown",
   "metadata": {},
   "source": [
    "6. Agregar casos de pruebas para el método conversion_grados()"
   ]
  },
  {
   "cell_type": "code",
   "execution_count": 57,
   "metadata": {},
   "outputs": [],
   "source": [
    "class ProbandoMiClase3(unittest.TestCase):\n",
    "    def test_verificación_temperatura_conversion(self):\n",
    "        lis = [2,3,8,10]\n",
    "        h1 = h.Tools(lis)\n",
    "        tem_conversion = h1.trans_temperature('C', 'F')\n",
    "        tem_esperada = ['2°C = 35.6F',\n",
    "                        '3°C = 37.4F',\n",
    "                        '8°C = 46.4F',\n",
    "                        '10°C = 50.0F']\n",
    "        self.assertEqual(tem_conversion, tem_esperada)"
   ]
  },
  {
   "cell_type": "code",
   "execution_count": 55,
   "metadata": {},
   "outputs": [
    {
     "data": {
      "text/plain": [
       "<module 'tools' from 'C:\\\\Users/brand/OneDrive/Documents/Soy Henry/Python-Prep/07 - Clases & OOP\\\\tools.py'>"
      ]
     },
     "execution_count": 55,
     "metadata": {},
     "output_type": "execute_result"
    }
   ],
   "source": [
    "importlib.reload(h)"
   ]
  },
  {
   "cell_type": "code",
   "execution_count": 58,
   "metadata": {},
   "outputs": [
    {
     "name": "stderr",
     "output_type": "stream",
     "text": [
      "test_valor_modal (__main__.ProbandoMiClase) ... ok\n",
      "test_verificación_primos (__main__.ProbandoMiClase2) ... ok\n",
      "test_verificación_temperatura_conversion (__main__.ProbandoMiClase3) ... ok\n",
      "test_factorial (__main__.ProbandoMiClase4) ... ok\n",
      "\n",
      "----------------------------------------------------------------------\n",
      "Ran 4 tests in 0.010s\n",
      "\n",
      "OK\n"
     ]
    },
    {
     "name": "stdout",
     "output_type": "stream",
     "text": [
      "El elemento 2 SI es un numero primo\n",
      "El elemento 3 SI es un numero primo\n",
      "El elemento 8 NO es un numero primo\n",
      "El elemento 10 NO es un numero primo\n",
      "El elemento 13 SI es un numero primo\n",
      "el factorial de 2 es: 2\n",
      "el factorial de 3 es: 6\n",
      "el factorial de 8 es: 40320\n",
      "el factorial de 10 es: 3628800\n"
     ]
    },
    {
     "data": {
      "text/plain": [
       "<unittest.main.TestProgram at 0x20e68a1dae0>"
      ]
     },
     "execution_count": 58,
     "metadata": {},
     "output_type": "execute_result"
    }
   ],
   "source": [
    "unittest.main(argv=[''], verbosity=2, exit=False)"
   ]
  },
  {
   "attachments": {},
   "cell_type": "markdown",
   "metadata": {},
   "source": [
    "7. Agregar casos de pruebas para eI método factorialO"
   ]
  },
  {
   "cell_type": "code",
   "execution_count": 59,
   "metadata": {},
   "outputs": [],
   "source": [
    "class ProbandoMiClase4(unittest.TestCase):\n",
    "    def test_factorial(self):\n",
    "        lis = [2,3,8,10]\n",
    "        h1 = h.Tools(lis)\n",
    "        factorial_cal = h1.factorial()\n",
    "        factorial_esperado = [2, 6, 40320, 3628800]\n",
    "        self.assertEqual(factorial_cal, factorial_esperado)"
   ]
  },
  {
   "cell_type": "code",
   "execution_count": 60,
   "metadata": {},
   "outputs": [
    {
     "data": {
      "text/plain": [
       "<module 'tools' from 'C:\\\\Users/brand/OneDrive/Documents/Soy Henry/Python-Prep/07 - Clases & OOP\\\\tools.py'>"
      ]
     },
     "execution_count": 60,
     "metadata": {},
     "output_type": "execute_result"
    }
   ],
   "source": [
    "importlib.reload(h)"
   ]
  },
  {
   "cell_type": "code",
   "execution_count": 61,
   "metadata": {},
   "outputs": [
    {
     "name": "stderr",
     "output_type": "stream",
     "text": [
      "test_valor_modal (__main__.ProbandoMiClase) ... ok\n",
      "test_verificación_primos (__main__.ProbandoMiClase2) ... ok\n",
      "test_verificación_temperatura_conversion (__main__.ProbandoMiClase3) ... ok\n",
      "test_factorial (__main__.ProbandoMiClase4) ... ok\n",
      "\n",
      "----------------------------------------------------------------------\n",
      "Ran 4 tests in 0.010s\n",
      "\n",
      "OK\n"
     ]
    },
    {
     "name": "stdout",
     "output_type": "stream",
     "text": [
      "El elemento 2 SI es un numero primo\n",
      "El elemento 3 SI es un numero primo\n",
      "El elemento 8 NO es un numero primo\n",
      "El elemento 10 NO es un numero primo\n",
      "El elemento 13 SI es un numero primo\n",
      "el factorial de 2 es: 2\n",
      "el factorial de 3 es: 6\n",
      "el factorial de 8 es: 40320\n",
      "el factorial de 10 es: 3628800\n"
     ]
    },
    {
     "data": {
      "text/plain": [
       "<unittest.main.TestProgram at 0x20e68a1f100>"
      ]
     },
     "execution_count": 61,
     "metadata": {},
     "output_type": "execute_result"
    }
   ],
   "source": [
    "unittest.main(argv=[''], verbosity=2, exit=False)"
   ]
  }
 ],
 "metadata": {
  "kernelspec": {
   "display_name": "env_DS",
   "language": "python",
   "name": "python3"
  },
  "language_info": {
   "codemirror_mode": {
    "name": "ipython",
    "version": 3
   },
   "file_extension": ".py",
   "mimetype": "text/x-python",
   "name": "python",
   "nbconvert_exporter": "python",
   "pygments_lexer": "ipython3",
   "version": "3.10.9"
  },
  "orig_nbformat": 4
 },
 "nbformat": 4,
 "nbformat_minor": 2
}
